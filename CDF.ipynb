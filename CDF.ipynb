{
 "cells": [
  {
   "cell_type": "code",
   "execution_count": 9,
   "id": "21951cbb-2a73-4b31-bbea-afafa6077c6e",
   "metadata": {
    "pycharm": {
     "name": "#%%\n"
    }
   },
   "outputs": [],
   "source": [
    "import pandas as pd\n",
    "from tqdm import tqdm_notebook\n",
    "import time\n",
    "import numpy as np\n",
    "import matplotlib.pyplot as plt\n",
    "import seaborn as sns\n",
    "import os\n",
    "import ast\n"
   ]
  },
  {
   "cell_type": "code",
   "execution_count": 2,
   "id": "e29209c6-57df-42d9-acc5-8668a52eac4e",
   "metadata": {
    "pycharm": {
     "name": "#%%\n"
    }
   },
   "outputs": [],
   "source": [
    "json_file = \"./geoEurope/geoEurope_202206{}{}.json\""
   ]
  },
  {
   "cell_type": "code",
   "execution_count": 3,
   "id": "7fd5e9c4-5678-4440-9906-5d8e7b175359",
   "metadata": {
    "pycharm": {
     "name": "#%%\n"
    }
   },
   "outputs": [],
   "source": [
    "json_names = []\n",
    "for day in range(1,31):\n",
    "    for hour in range(0,24):\n",
    "        if day < 10:\n",
    "            day1 = '0'+ str(day)\n",
    "        else:\n",
    "            day1 = str(day)\n",
    "        if hour < 10:\n",
    "            hour1 = '0' + str(hour)\n",
    "        else:\n",
    "            hour1 = str(hour)\n",
    "            \n",
    "        name = json_file.format(day1,hour1)\n",
    "        json_names.append(name)"
   ]
  },
  {
   "cell_type": "code",
   "execution_count": null,
   "id": "34b4aeb9-f7f2-4d92-a7b9-e77e69e9e3f7",
   "metadata": {
    "pycharm": {
     "name": "#%%\n"
    }
   },
   "outputs": [],
   "source": [
    "bounding_boxes = []\n",
    "for i in tqdm_notebook(range(len(json_names)),desc='Reading：'):\n",
    "    json_f = json_names[i]\n",
    "    #print(\"Now reading file:\", json_f)\n",
    "    result_json = []\n",
    "    with open(json_f) as f:\n",
    "        lines = f.readlines()\n",
    "        for line in lines:\n",
    "            try:\n",
    "                result = json.loads(line)\n",
    "                result_json.append(result)\n",
    "            except Exception:\n",
    "                print(\"Meet an error.\")\n",
    "                pass\n",
    "                \n",
    "\n",
    "    for record in result_json:\n",
    "        try:\n",
    "            if record['place']:\n",
    "                bounding_boxes.append(record['place']['bounding_box']['coordinates'])\n",
    "            \n",
    "        except Exception:\n",
    "            print(\"Meet an error.\")\n",
    "            pass"
   ]
  },
  {
   "cell_type": "code",
   "execution_count": 15,
   "id": "f6a84e30-b5f9-4a42-9577-728da7e3d44a",
   "metadata": {
    "pycharm": {
     "name": "#%%\n"
    }
   },
   "outputs": [
    {
     "data": {
      "text/plain": [
       "[22.355901, 41.235864]"
      ]
     },
     "execution_count": 15,
     "metadata": {},
     "output_type": "execute_result"
    }
   ],
   "source": [
    "bounding_boxes[100][0]"
   ]
  },
  {
   "cell_type": "code",
   "execution_count": null,
   "id": "4126bea2-f8e9-4f8d-b0d3-acf502ac2c1d",
   "metadata": {
    "pycharm": {
     "name": "#%%\n"
    }
   },
   "outputs": [],
   "source": [
    "polygon_geom = Polygon(zip(lon_point_list, lat_point_list))"
   ]
  },
  {
   "cell_type": "code",
   "execution_count": 27,
   "id": "21d50165-b00f-4b24-8f3e-efb1ad1e4b74",
   "metadata": {
    "pycharm": {
     "name": "#%%\n"
    }
   },
   "outputs": [],
   "source": [
    "from shapely.geometry import Polygon\n",
    "point = bounding_boxes[1][0]\n",
    "lat_point_list = [x[1] for x in bounding_boxes[100][0]]\n",
    "lon_point_list = [x[0] for x in bounding_boxes[100][0]]\n",
    "\n",
    "polygon_geom = Polygon(zip(lon_point_list, lat_point_list))"
   ]
  },
  {
   "cell_type": "code",
   "execution_count": 28,
   "id": "5d1d85ad-9be8-4aa2-ba55-bd9a314a9b0d",
   "metadata": {
    "pycharm": {
     "name": "#%%\n"
    }
   },
   "outputs": [],
   "source": [
    "from math import sqrt\n",
    "import geopy.distance\n",
    "def to_square(polygon):\n",
    "    minx, miny, maxx, maxy = polygon.bounds\n",
    "    # get the diagonal\n",
    "    coords_1 = (maxx, maxy)\n",
    "    coords_2 = (minx, miny)\n",
    "    diagonal = geopy.distance.geodesic(coords_1, coords_2).km\n",
    "    return diagonal"
   ]
  },
  {
   "cell_type": "code",
   "execution_count": 29,
   "id": "cb83bb47-6726-4324-90fb-970d51cea089",
   "metadata": {
    "pycharm": {
     "name": "#%%\n"
    }
   },
   "outputs": [
    {
     "data": {
      "text/plain": [
       "754.459111150671"
      ]
     },
     "execution_count": 29,
     "metadata": {},
     "output_type": "execute_result"
    }
   ],
   "source": [
    "to_square(polygon_geom)"
   ]
  },
  {
   "cell_type": "code",
   "execution_count": null,
   "id": "51d7704f-7f30-4122-820c-59c80308cec0",
   "metadata": {
    "pycharm": {
     "name": "#%%\n"
    }
   },
   "outputs": [],
   "source": [
    "diagonals = []\n",
    "for i in tqdm_notebook(range(len(bounding_boxes)),desc='Reading：'):\n",
    "    points = bounding_boxes[i][0]\n",
    "    lat_point_list = [x[1] for x in points]\n",
    "    lon_point_list = [x[0] for x in points]\n",
    "    maxx = max(lat_point_list)\n",
    "    minx = min(lat_point_list)\n",
    "    maxy = max(lon_point_list)\n",
    "    miny = min(lon_point_list)\n",
    "    try:\n",
    "        coords_1 = (maxx, maxy)\n",
    "        coords_2 = (minx, miny)\n",
    "        diagonal = geopy.distance.geodesic(coords_1, coords_2).km\n",
    "        diagonals.append(diagonal)\n",
    "    except Exception:\n",
    "        pass\n",
    "    "
   ]
  },
  {
   "cell_type": "code",
   "execution_count": 41,
   "id": "e753597d-b1ac-4d21-b05a-04d2a99b62e0",
   "metadata": {
    "pycharm": {
     "name": "#%%\n"
    }
   },
   "outputs": [],
   "source": [
    "limit_diagonals = []\n",
    "for x in diagonals:\n",
    "    if x<500:\n",
    "        limit_diagonals.append(x)"
   ]
  },
  {
   "cell_type": "code",
   "execution_count": 42,
   "id": "169c7a13-1a21-4981-a272-c4b36bbc2b85",
   "metadata": {
    "pycharm": {
     "name": "#%%\n"
    }
   },
   "outputs": [
    {
     "data": {
      "image/png": "[encoded data removed]",
      "text/plain": [
       "<Figure size 432x288 with 1 Axes>"
      ]
     },
     "metadata": {
      "needs_background": "light"
     },
     "output_type": "display_data"
    }
   ],
   "source": [
    "count, bins_count = np.histogram(limit_diagonals, bins=100)\n",
    "pdf = count / sum(count)\n",
    "cdf = np.cumsum(pdf)\n",
    "plt.plot(bins_count[1:], cdf, label=\"CDF\")\n",
    "plt.title(\"CDF of bounding box diagonals\")\n",
    "plt.xlabel('Distance')\n",
    "plt.ylabel('CDF')\n",
    "plt.legend()\n",
    "plt.show()"
   ]
  },
  {
   "cell_type": "code",
   "execution_count": null,
   "id": "1405c41b-0b6c-4f75-9d78-472c95926ea2",
   "metadata": {
    "pycharm": {
     "name": "#%%\n"
    }
   },
   "outputs": [],
   "source": []
  }
 ],
 "metadata": {
  "kernelspec": {
   "display_name": "myconda",
   "language": "python",
   "name": "myconda"
  },
  "language_info": {
   "codemirror_mode": {
    "name": "ipython",
    "version": 3
   },
   "file_extension": ".py",
   "mimetype": "text/x-python",
   "name": "python",
   "nbconvert_exporter": "python",
   "pygments_lexer": "ipython3",
   "version": "3.7.10"
  }
 },
 "nbformat": 4,
 "nbformat_minor": 5
}