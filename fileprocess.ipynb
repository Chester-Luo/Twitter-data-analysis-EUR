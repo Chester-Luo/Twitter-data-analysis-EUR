{
 "cells": [
  {
   "cell_type": "code",
   "execution_count": 1,
   "id": "1c18830a-04d0-4f32-bab8-332e353e333b",
   "metadata": {
    "pycharm": {
     "name": "#%%\n"
    }
   },
   "outputs": [],
   "source": [
    "import os"
   ]
  },
  {
   "cell_type": "code",
   "execution_count": 2,
   "id": "dd07a872-47ee-4f6e-96a6-02e108ad888a",
   "metadata": {
    "pycharm": {
     "name": "#%%\n"
    }
   },
   "outputs": [],
   "source": [
    "filename = \"geoEurope_202206{}{}.zip\""
   ]
  },
  {
   "cell_type": "code",
   "execution_count": 4,
   "id": "4bbb9117-ab5f-45c5-bd30-875119e23238",
   "metadata": {
    "pycharm": {
     "name": "#%%\n"
    }
   },
   "outputs": [],
   "source": [
    "names = []\n",
    "for day in range(1,31):\n",
    "    for hour in range(0,24):\n",
    "        if day < 10:\n",
    "            day1 = '0'+ str(day)\n",
    "        else:\n",
    "            day1 = str(day)\n",
    "        if hour < 10:\n",
    "            hour1 = '0' + str(hour)\n",
    "        else:\n",
    "            hour1 = str(hour1)\n",
    "            \n",
    "        name = filename.format(day1,hour1)\n",
    "        names.append(name)"
   ]
  },
  {
   "cell_type": "code",
   "execution_count": 5,
   "id": "2d207da1-2dea-4d27-9b47-a87d70cf7eaf",
   "metadata": {
    "pycharm": {
     "name": "#%%\n"
    }
   },
   "outputs": [
    {
     "data": {
      "text/plain": [
       "'\\nfor name in names:\\n    print(\"Processing:{}\".format(name))\\n    os.system(\\'unzip {}\\'.format(name))\\n    os.system(\\'rm {}\\'.format(name))'"
      ]
     },
     "execution_count": 5,
     "metadata": {},
     "output_type": "execute_result"
    }
   ],
   "source": [
    "# Used to process zip files\n",
    "'''\n",
    "for name in names:\n",
    "    print(\"Processing:{}\".format(name))\n",
    "    os.system('unzip {}'.format(name))\n",
    "    os.system('rm {}'.format(name))'''"
   ]
  },
  {
   "cell_type": "code",
   "execution_count": 6,
   "id": "adbbadd0-0d4b-4158-aaa6-12060a3199a4",
   "metadata": {
    "pycharm": {
     "name": "#%%\n"
    }
   },
   "outputs": [],
   "source": [
    "json_file = \"./geoEurope/geoEurope_202206{}{}.json\""
   ]
  },
  {
   "cell_type": "code",
   "execution_count": 7,
   "id": "ba6fbddb-dc06-4eb4-afa0-c58fba5330e7",
   "metadata": {
    "pycharm": {
     "name": "#%%\n"
    }
   },
   "outputs": [],
   "source": [
    "json_names = []\n",
    "for day in range(1,31):\n",
    "    for hour in range(0,24):\n",
    "        if day < 10:\n",
    "            day1 = '0'+ str(day)\n",
    "        else:\n",
    "            day1 = str(day)\n",
    "        if hour < 10:\n",
    "            hour1 = '0' + str(hour)\n",
    "        else:\n",
    "            hour1 = str(hour)\n",
    "            \n",
    "        name = json_file.format(day1,hour1)\n",
    "        json_names.append(name)"
   ]
  },
  {
   "cell_type": "code",
   "execution_count": 32,
   "id": "58fd54d0-b6d4-4806-b10f-3fb118f999a8",
   "metadata": {
    "pycharm": {
     "name": "#%%\n"
    }
   },
   "outputs": [],
   "source": [
    "header = \"id\\tuser_id\\tuser_name\\ttime\\ttime_day\\ttime_hour\\tlocation\\tcountry\\tcontent\\tmention_id\\tmention_name\\treply_id\\n\""
   ]
  },
  {
   "cell_type": "code",
   "execution_count": 33,
   "id": "94931e8e-c2c5-4fa9-8b4d-b585122a6e3d",
   "metadata": {
    "pycharm": {
     "name": "#%%\n"
    }
   },
   "outputs": [],
   "source": [
    "with open(\"processed.tsv\",'w') as f:\n",
    "    f.write(header)"
   ]
  },
  {
   "cell_type": "code",
   "execution_count": 34,
   "id": "f2407ffa-c884-4c65-adf1-27b676cfc7e7",
   "metadata": {
    "pycharm": {
     "name": "#%%\n"
    }
   },
   "outputs": [],
   "source": [
    "import time"
   ]
  },
  {
   "cell_type": "code",
   "execution_count": null,
   "id": "c9ade297-1298-4bba-964b-88b2d5bab600",
   "metadata": {
    "pycharm": {
     "name": "#%%\n"
    }
   },
   "outputs": [],
   "source": [
    "for json_f in json_names:\n",
    "    print(\"Now reading file:\", json_f)\n",
    "    result_json = []\n",
    "    with open(json_f) as f:\n",
    "        lines = f.readlines()\n",
    "        for line in lines:\n",
    "            result = json.loads(line)\n",
    "            result_json.append(result)\n",
    "\n",
    "    for record in result_json:\n",
    "        try:\n",
    "            id = ''\n",
    "            if 'id' not in record:\n",
    "                continue\n",
    "            if record['id']:\n",
    "                id = record['id']\n",
    "\n",
    "            user_id = ''\n",
    "            if record['user']['id_str']:\n",
    "                user_id = record['user']['id_str']\n",
    "            user_name = ''\n",
    "            if record['user']['screen_name']:\n",
    "                user_name = record['user']['screen_name'].replace('\\t', '  ')\n",
    "\n",
    "            ts = record['timestamp_ms']\n",
    "            timestamp = int(ts) + 3600000\n",
    "            format_date = time.strftime('%Y-%m-%d %H:%M:%S:{}'.format(timestamp % 1000),\n",
    "                                        time.gmtime(timestamp / 1000.0))\n",
    "            day = int(format_date.split(' ')[0].split('-')[2])\n",
    "            time_hour = int(format_date.split(' ')[1].split(':')[0])\n",
    "            location = ''\n",
    "            if record['geo']:\n",
    "                location = str(record['geo']['coordinates'])\n",
    "\n",
    "            country = ''\n",
    "            if record['place']:\n",
    "                country = record['place']['country']\n",
    "\n",
    "            content = record['text'].replace('\\t', ' ').replace('\\n', '  ')\n",
    "            mention_id = ''\n",
    "            mention_name = ''\n",
    "            reply = ''\n",
    "            if record['in_reply_to_user_id_str']:\n",
    "                reply = record['in_reply_to_user_id_str']\n",
    "\n",
    "            if record['entities']['user_mentions']:\n",
    "                ids = []\n",
    "                names = []\n",
    "                for r in record['entities']['user_mentions']:\n",
    "                    ids.append(r['id_str'])\n",
    "                    names.append(r['screen_name'])\n",
    "                mention_id = str(ids)\n",
    "                mention_name = str(names)\n",
    "\n",
    "            write = \"{}\\t{}\\t{}\\t{}\\t{}\\t{}\\t{}\\t{}\\t{}\\t{}\\t{}\\t{}\\n\".format(id, user_id, user_name, format_date, day,\n",
    "                                                                              time_hour, location, country, content,\n",
    "                                                                              mention_id, mention_name, reply)\n",
    "            # print(write)\n",
    "            with open(\"processed.tsv\", 'a') as f:\n",
    "                f.write(write)\n",
    "        except Exception:\n",
    "            print(\"Meet an error.\")\n",
    "            pass"
   ]
  },
  {
   "cell_type": "code",
   "execution_count": null,
   "id": "78568d4b-ce85-4dfd-b540-7c6c1a26becf",
   "metadata": {
    "pycharm": {
     "name": "#%%\n"
    }
   },
   "outputs": [],
   "source": []
  }
 ],
 "metadata": {
  "kernelspec": {
   "display_name": "myconda",
   "language": "python",
   "name": "myconda"
  },
  "language_info": {
   "codemirror_mode": {
    "name": "ipython",
    "version": 3
   },
   "file_extension": ".py",
   "mimetype": "text/x-python",
   "name": "python",
   "nbconvert_exporter": "python",
   "pygments_lexer": "ipython3",
   "version": "3.7.10"
  }
 },
 "nbformat": 4,
 "nbformat_minor": 5
}